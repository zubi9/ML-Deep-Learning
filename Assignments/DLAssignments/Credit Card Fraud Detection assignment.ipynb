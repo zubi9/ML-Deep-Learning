{
 "cells": [
  {
   "cell_type": "markdown",
   "metadata": {},
   "source": [
    "# Credit Card Fraud Detection::"
   ]
  },
  {
   "cell_type": "markdown",
   "metadata": {},
   "source": [
    "Download dataset from this link:\n",
    "\n",
    "https://www.kaggle.com/mlg-ulb/creditcardfraud"
   ]
  },
  {
   "cell_type": "markdown",
   "metadata": {},
   "source": [
    "# Description about dataset::"
   ]
  },
  {
   "cell_type": "markdown",
   "metadata": {},
   "source": [
    "The datasets contains transactions made by credit cards in September 2013 by european cardholders.\n",
    "This dataset presents transactions that occurred in two days, where we have 492 frauds out of 284,807 transactions. The dataset is highly unbalanced, the positive class (frauds) account for 0.172% of all transactions.\n",
    "\n",
    "It contains only numerical input variables which are the result of a PCA transformation. Unfortunately, due to confidentiality issues, we cannot provide the original features and more background information about the data. Features V1, V2, … V28 are the principal components obtained with PCA, the only features which have not been transformed with PCA are 'Time' and 'Amount'. Feature 'Time' contains the seconds elapsed between each transaction and the first transaction in the dataset. The feature 'Amount' is the transaction Amount, this feature can be used for example-dependant cost-senstive learning. \n",
    "\n",
    "\n",
    "### Feature 'Class' is the response variable and it takes value 1 in case of fraud and 0 otherwise."
   ]
  },
  {
   "cell_type": "markdown",
   "metadata": {},
   "source": [
    "# WORKFLOW :"
   ]
  },
  {
   "cell_type": "markdown",
   "metadata": {},
   "source": [
    "1.Load Data\n",
    "\n",
    "2.Check Missing Values ( If Exist ; Fill each record with mean of its feature )\n",
    "\n",
    "3.Standardized the Input Variables. \n",
    "\n",
    "4.Split into 50% Training(Samples,Labels) , 30% Test(Samples,Labels) and 20% Validation Data(Samples,Labels).\n",
    "\n",
    "5.Model : input Layer (No. of features ), 3 hidden layers including 10,8,6 unit & Output Layer with activation function relu/tanh (check by experiment).\n",
    "\n",
    "6.Compilation Step (Note : Its a Binary problem , select loss , metrics according to it)\n",
    "\n",
    "7.Train the Model with Epochs (100).\n",
    "\n",
    "8.If the model gets overfit tune your model by changing the units , No. of layers , epochs , add dropout layer or add Regularizer according to the need .\n",
    "\n",
    "9.Prediction should be > 92%\n",
    "10.Evaluation Step\n",
    "11Prediction\n"
   ]
  },
  {
   "cell_type": "markdown",
   "metadata": {},
   "source": [
    "# Task::"
   ]
  },
  {
   "cell_type": "markdown",
   "metadata": {},
   "source": [
    "## Identify fraudulent credit card transactions."
   ]
  },
  {
   "cell_type": "code",
   "execution_count": 1,
   "metadata": {},
   "outputs": [],
   "source": [
    "import tensorflow as tf\n",
    "import numpy as np\n",
    "import matplotlib.pyplot as plt\n",
    "import pandas as pd"
   ]
  },
  {
   "cell_type": "code",
   "execution_count": 2,
   "metadata": {
    "scrolled": true
   },
   "outputs": [],
   "source": [
    "data = pd.read_csv(\"data/creditcard.csv\")\n",
    "# data.drop_duplicates()"
   ]
  },
  {
   "cell_type": "code",
   "execution_count": 3,
   "metadata": {},
   "outputs": [],
   "source": [
    "# PCAs(principal componant Analysis) of the time and amount column \n",
    "\n",
    "mean = data[['Time', 'Amount']].mean(axis = 0)\n",
    "std = data[['Time', 'Amount']].std(axis = 0)\n",
    "\n",
    "data[['Time', 'Amount']] -= mean\n",
    "data[['Time', 'Amount']] /= std\n",
    "\n",
    "# data"
   ]
  },
  {
   "cell_type": "code",
   "execution_count": 4,
   "metadata": {
    "scrolled": false
   },
   "outputs": [],
   "source": [
    "features_x = data.loc[:, 'Time':'Amount']\n",
    "# features_x\n",
    "feature_y = data['Class']\n",
    "# feature_y"
   ]
  },
  {
   "cell_type": "code",
   "execution_count": 5,
   "metadata": {},
   "outputs": [],
   "source": [
    "train_data = features_x\n",
    "train_label = feature_y"
   ]
  },
  {
   "cell_type": "code",
   "execution_count": 6,
   "metadata": {},
   "outputs": [
    {
     "name": "stdout",
     "output_type": "stream",
     "text": [
      "length of traing data:  284807 \n",
      "length of traing samples:  284807\n"
     ]
    }
   ],
   "source": [
    "print(\"length of traing data: \", len(train_data), \"\\nlength of traing samples: \", len(train_label),)"
   ]
  },
  {
   "cell_type": "code",
   "execution_count": 7,
   "metadata": {},
   "outputs": [],
   "source": [
    "# print(train_data)\n",
    "# print(train_label)"
   ]
  },
  {
   "cell_type": "code",
   "execution_count": 8,
   "metadata": {},
   "outputs": [],
   "source": [
    "train_x = train_data[:199364]  # first 70% for training validation \n",
    "train_y = train_label[:199364]\n",
    "test_x = train_data[199364:]   # last 30 % for testing\n",
    "test_y = train_label[199364:]"
   ]
  },
  {
   "cell_type": "code",
   "execution_count": 9,
   "metadata": {},
   "outputs": [
    {
     "name": "stdout",
     "output_type": "stream",
     "text": [
      "199364\n",
      "199364\n"
     ]
    }
   ],
   "source": [
    "print(len(train_x))\n",
    "print(len(train_y))"
   ]
  },
  {
   "cell_type": "code",
   "execution_count": 10,
   "metadata": {},
   "outputs": [],
   "source": [
    "val_x = train_x[99682:]     # split data into 20%  for validation\n",
    "val_y = train_y[99682:]\n",
    "train_x = train_x[:99682]      # split data into 50%  for training\n",
    "train_y = train_y[:99682]"
   ]
  },
  {
   "cell_type": "code",
   "execution_count": 11,
   "metadata": {
    "scrolled": true
   },
   "outputs": [
    {
     "name": "stdout",
     "output_type": "stream",
     "text": [
      "(99682, 30)\n",
      "(99682,)\n"
     ]
    }
   ],
   "source": [
    "print(train_x.shape)\n",
    "print(train_y.shape)"
   ]
  },
  {
   "cell_type": "markdown",
   "metadata": {},
   "source": [
    "## Strcturing the model"
   ]
  },
  {
   "cell_type": "code",
   "execution_count": 12,
   "metadata": {
    "scrolled": true
   },
   "outputs": [
    {
     "name": "stderr",
     "output_type": "stream",
     "text": [
      "Using TensorFlow backend.\n"
     ]
    }
   ],
   "source": [
    "from keras import models\n",
    "from keras import layers\n",
    "\n",
    "model = models.Sequential()\n",
    "model.add(layers.Dense(30, activation= 'relu', input_shape = (train_x.shape[1],  ) ))\n",
    "model.add(layers.Dense(10, activation='relu'))\n",
    "model.add(layers.Dense(8, activation='relu'))\n",
    "model.add(layers.Dense(6, activation='relu'))\n",
    "model.add(layers.Dense(1, activation='relu'))"
   ]
  },
  {
   "cell_type": "markdown",
   "metadata": {},
   "source": [
    "### Compiling the model"
   ]
  },
  {
   "cell_type": "code",
   "execution_count": 13,
   "metadata": {},
   "outputs": [],
   "source": [
    "model.compile(optimizer='rmsprop', loss='binary_crossentropy', metrics= ['acc'] )#binary_crossentropy"
   ]
  },
  {
   "cell_type": "markdown",
   "metadata": {},
   "source": [
    "### Training the Model"
   ]
  },
  {
   "cell_type": "code",
   "execution_count": 14,
   "metadata": {
    "scrolled": true
   },
   "outputs": [
    {
     "name": "stdout",
     "output_type": "stream",
     "text": [
      "WARNING:tensorflow:From C:\\Users\\zubim\\Anaconda3\\lib\\site-packages\\tensorflow\\python\\ops\\math_grad.py:1250: add_dispatch_support.<locals>.wrapper (from tensorflow.python.ops.array_ops) is deprecated and will be removed in a future version.\n",
      "Instructions for updating:\n",
      "Use tf.where in 2.0, which has the same broadcast rule as np.where\n",
      "WARNING:tensorflow:From C:\\Users\\zubim\\Anaconda3\\lib\\site-packages\\keras\\backend\\tensorflow_backend.py:422: The name tf.global_variables is deprecated. Please use tf.compat.v1.global_variables instead.\n",
      "\n",
      "Train on 99682 samples, validate on 99682 samples\n",
      "Epoch 1/100\n",
      "99682/99682 [==============================] - 1s 7us/step - loss: 0.0400 - acc: 0.9946 - val_loss: 0.0227 - val_acc: 0.9958\n",
      "Epoch 2/100\n",
      "99682/99682 [==============================] - 0s 5us/step - loss: 0.0116 - acc: 0.9978 - val_loss: 0.0245 - val_acc: 0.9946\n",
      "Epoch 3/100\n",
      "99682/99682 [==============================] - 0s 4us/step - loss: 0.0114 - acc: 0.9978 - val_loss: 0.0136 - val_acc: 0.9974\n",
      "Epoch 4/100\n",
      "99682/99682 [==============================] - 0s 4us/step - loss: 0.0114 - acc: 0.9978 - val_loss: 0.0117 - val_acc: 0.9978\n",
      "Epoch 5/100\n",
      "99682/99682 [==============================] - 1s 6us/step - loss: 0.0115 - acc: 0.9976 - val_loss: 0.0101 - val_acc: 0.9980\n",
      "Epoch 6/100\n",
      "99682/99682 [==============================] - 0s 5us/step - loss: 0.0115 - acc: 0.9978 - val_loss: 0.0108 - val_acc: 0.9977\n",
      "Epoch 7/100\n",
      "99682/99682 [==============================] - 0s 5us/step - loss: 0.0119 - acc: 0.9976 - val_loss: 0.0104 - val_acc: 0.9978\n",
      "Epoch 8/100\n",
      "99682/99682 [==============================] - 1s 6us/step - loss: 0.0113 - acc: 0.9978 - val_loss: 0.0104 - val_acc: 0.9979\n",
      "Epoch 9/100\n",
      "99682/99682 [==============================] - 1s 5us/step - loss: 0.0114 - acc: 0.9977 - val_loss: 0.0116 - val_acc: 0.9973\n",
      "Epoch 10/100\n",
      "99682/99682 [==============================] - 1s 6us/step - loss: 0.0114 - acc: 0.9976 - val_loss: 0.0098 - val_acc: 0.9981\n",
      "Epoch 11/100\n",
      "99682/99682 [==============================] - 1s 6us/step - loss: 0.0114 - acc: 0.9977 - val_loss: 0.0106 - val_acc: 0.9979\n",
      "Epoch 12/100\n",
      "99682/99682 [==============================] - 0s 5us/step - loss: 0.0115 - acc: 0.9976 - val_loss: 0.0098 - val_acc: 0.9981\n",
      "Epoch 13/100\n",
      "99682/99682 [==============================] - 1s 5us/step - loss: 0.0114 - acc: 0.9976 - val_loss: 0.0105 - val_acc: 0.9979\n",
      "Epoch 14/100\n",
      "99682/99682 [==============================] - 0s 5us/step - loss: 0.0114 - acc: 0.9975 - val_loss: 0.0108 - val_acc: 0.9978\n",
      "Epoch 15/100\n",
      "99682/99682 [==============================] - 0s 5us/step - loss: 0.0114 - acc: 0.9975 - val_loss: 0.0108 - val_acc: 0.9978\n",
      "Epoch 16/100\n",
      "99682/99682 [==============================] - 1s 5us/step - loss: 0.0114 - acc: 0.9975 - val_loss: 0.0095 - val_acc: 0.9982\n",
      "Epoch 17/100\n",
      "99682/99682 [==============================] - 1s 6us/step - loss: 0.0114 - acc: 0.9976 - val_loss: 0.0102 - val_acc: 0.9979\n",
      "Epoch 18/100\n",
      "99682/99682 [==============================] - 1s 5us/step - loss: 0.0114 - acc: 0.9975 - val_loss: 0.0099 - val_acc: 0.9980\n",
      "Epoch 19/100\n",
      "99682/99682 [==============================] - 0s 5us/step - loss: 0.0114 - acc: 0.9975 - val_loss: 0.0118 - val_acc: 0.9974\n",
      "Epoch 20/100\n",
      "99682/99682 [==============================] - 1s 6us/step - loss: 0.0114 - acc: 0.9976 - val_loss: 0.0098 - val_acc: 0.9980\n",
      "Epoch 21/100\n",
      "99682/99682 [==============================] - 1s 6us/step - loss: 0.0114 - acc: 0.9975 - val_loss: 0.0112 - val_acc: 0.9977\n",
      "Epoch 22/100\n",
      "99682/99682 [==============================] - 1s 5us/step - loss: 0.0114 - acc: 0.9975 - val_loss: 0.0104 - val_acc: 0.9979\n",
      "Epoch 23/100\n",
      "99682/99682 [==============================] - 1s 5us/step - loss: 0.0114 - acc: 0.9975 - val_loss: 0.0102 - val_acc: 0.9979\n",
      "Epoch 24/100\n",
      "99682/99682 [==============================] - 1s 6us/step - loss: 0.0114 - acc: 0.9975 - val_loss: 0.0102 - val_acc: 0.9979\n",
      "Epoch 25/100\n",
      "99682/99682 [==============================] - 0s 5us/step - loss: 0.0114 - acc: 0.9975 - val_loss: 0.0102 - val_acc: 0.9979\n",
      "Epoch 26/100\n",
      "99682/99682 [==============================] - 1s 5us/step - loss: 0.0114 - acc: 0.9975 - val_loss: 0.0102 - val_acc: 0.9979\n",
      "Epoch 27/100\n",
      "99682/99682 [==============================] - 1s 6us/step - loss: 0.0114 - acc: 0.9975 - val_loss: 0.0102 - val_acc: 0.9979\n",
      "Epoch 28/100\n",
      "99682/99682 [==============================] - 1s 6us/step - loss: 0.0114 - acc: 0.9975 - val_loss: 0.0102 - val_acc: 0.9979\n",
      "Epoch 29/100\n",
      "99682/99682 [==============================] - 1s 5us/step - loss: 0.0114 - acc: 0.9975 - val_loss: 0.0102 - val_acc: 0.9979\n",
      "Epoch 30/100\n",
      "99682/99682 [==============================] - 1s 6us/step - loss: 0.0114 - acc: 0.9975 - val_loss: 0.0102 - val_acc: 0.9979\n",
      "Epoch 31/100\n",
      "99682/99682 [==============================] - 1s 6us/step - loss: 0.0114 - acc: 0.9975 - val_loss: 0.0102 - val_acc: 0.9979\n",
      "Epoch 32/100\n",
      "99682/99682 [==============================] - 1s 5us/step - loss: 0.0114 - acc: 0.9975 - val_loss: 0.0102 - val_acc: 0.9979\n",
      "Epoch 33/100\n",
      "99682/99682 [==============================] - 1s 5us/step - loss: 0.0114 - acc: 0.9975 - val_loss: 0.0102 - val_acc: 0.9979\n",
      "Epoch 34/100\n",
      "99682/99682 [==============================] - 1s 5us/step - loss: 0.0114 - acc: 0.9975 - val_loss: 0.0102 - val_acc: 0.9979\n",
      "Epoch 35/100\n",
      "99682/99682 [==============================] - 1s 5us/step - loss: 0.0114 - acc: 0.9975 - val_loss: 0.0102 - val_acc: 0.9979\n",
      "Epoch 36/100\n",
      "99682/99682 [==============================] - 0s 5us/step - loss: 0.0114 - acc: 0.9975 - val_loss: 0.0102 - val_acc: 0.9979\n",
      "Epoch 37/100\n",
      "99682/99682 [==============================] - 1s 7us/step - loss: 0.0114 - acc: 0.9975 - val_loss: 0.0102 - val_acc: 0.9979\n",
      "Epoch 38/100\n",
      "99682/99682 [==============================] - 1s 7us/step - loss: 0.0114 - acc: 0.9975 - val_loss: 0.0102 - val_acc: 0.9979\n",
      "Epoch 39/100\n",
      "99682/99682 [==============================] - 1s 6us/step - loss: 0.0114 - acc: 0.9975 - val_loss: 0.0102 - val_acc: 0.9979\n",
      "Epoch 40/100\n",
      "99682/99682 [==============================] - 1s 5us/step - loss: 0.0114 - acc: 0.9975 - val_loss: 0.0102 - val_acc: 0.9979\n",
      "Epoch 41/100\n",
      "99682/99682 [==============================] - 1s 5us/step - loss: 0.0114 - acc: 0.9975 - val_loss: 0.0102 - val_acc: 0.9979\n",
      "Epoch 42/100\n",
      "99682/99682 [==============================] - 0s 4us/step - loss: 0.0114 - acc: 0.9975 - val_loss: 0.0102 - val_acc: 0.9979\n",
      "Epoch 43/100\n",
      "99682/99682 [==============================] - 0s 4us/step - loss: 0.0114 - acc: 0.9975 - val_loss: 0.0102 - val_acc: 0.9979\n",
      "Epoch 44/100\n",
      "99682/99682 [==============================] - 0s 5us/step - loss: 0.0114 - acc: 0.9975 - val_loss: 0.0102 - val_acc: 0.9979\n",
      "Epoch 45/100\n",
      "99682/99682 [==============================] - 0s 5us/step - loss: 0.0114 - acc: 0.9975 - val_loss: 0.0102 - val_acc: 0.9979\n",
      "Epoch 46/100\n",
      "99682/99682 [==============================] - 0s 5us/step - loss: 0.0114 - acc: 0.9975 - val_loss: 0.0102 - val_acc: 0.9979\n",
      "Epoch 47/100\n",
      "99682/99682 [==============================] - 0s 4us/step - loss: 0.0114 - acc: 0.9975 - val_loss: 0.0102 - val_acc: 0.9979\n",
      "Epoch 48/100\n",
      "99682/99682 [==============================] - 0s 5us/step - loss: 0.0114 - acc: 0.9975 - val_loss: 0.0102 - val_acc: 0.9979\n",
      "Epoch 49/100\n",
      "99682/99682 [==============================] - 0s 4us/step - loss: 0.0114 - acc: 0.9975 - val_loss: 0.0102 - val_acc: 0.9979\n",
      "Epoch 50/100\n",
      "99682/99682 [==============================] - 0s 5us/step - loss: 0.0114 - acc: 0.9975 - val_loss: 0.0102 - val_acc: 0.9979\n",
      "Epoch 51/100\n",
      "99682/99682 [==============================] - 0s 5us/step - loss: 0.0114 - acc: 0.9975 - val_loss: 0.0102 - val_acc: 0.9979\n",
      "Epoch 52/100\n",
      "99682/99682 [==============================] - 0s 4us/step - loss: 0.0114 - acc: 0.9975 - val_loss: 0.0102 - val_acc: 0.9979\n",
      "Epoch 53/100\n",
      "99682/99682 [==============================] - 0s 4us/step - loss: 0.0114 - acc: 0.9975 - val_loss: 0.0102 - val_acc: 0.9979\n",
      "Epoch 54/100\n",
      "99682/99682 [==============================] - 0s 4us/step - loss: 0.0114 - acc: 0.9975 - val_loss: 0.0102 - val_acc: 0.9979\n",
      "Epoch 55/100\n",
      "99682/99682 [==============================] - 0s 5us/step - loss: 0.0114 - acc: 0.9975 - val_loss: 0.0102 - val_acc: 0.9979\n",
      "Epoch 56/100\n"
     ]
    },
    {
     "name": "stdout",
     "output_type": "stream",
     "text": [
      "99682/99682 [==============================] - 0s 5us/step - loss: 0.0114 - acc: 0.9975 - val_loss: 0.0102 - val_acc: 0.9979\n",
      "Epoch 57/100\n",
      "99682/99682 [==============================] - 0s 5us/step - loss: 0.0114 - acc: 0.9975 - val_loss: 0.0102 - val_acc: 0.9979\n",
      "Epoch 58/100\n",
      "99682/99682 [==============================] - 0s 5us/step - loss: 0.0114 - acc: 0.9975 - val_loss: 0.0102 - val_acc: 0.9979\n",
      "Epoch 59/100\n",
      "99682/99682 [==============================] - 0s 5us/step - loss: 0.0114 - acc: 0.9975 - val_loss: 0.0102 - val_acc: 0.9979\n",
      "Epoch 60/100\n",
      "99682/99682 [==============================] - 0s 4us/step - loss: 0.0114 - acc: 0.9975 - val_loss: 0.0102 - val_acc: 0.9979\n",
      "Epoch 61/100\n",
      "99682/99682 [==============================] - 0s 5us/step - loss: 0.0114 - acc: 0.9975 - val_loss: 0.0102 - val_acc: 0.9979\n",
      "Epoch 62/100\n",
      "99682/99682 [==============================] - 0s 5us/step - loss: 0.0114 - acc: 0.9975 - val_loss: 0.0102 - val_acc: 0.9979\n",
      "Epoch 63/100\n",
      "99682/99682 [==============================] - 0s 5us/step - loss: 0.0114 - acc: 0.9975 - val_loss: 0.0102 - val_acc: 0.9979\n",
      "Epoch 64/100\n",
      "99682/99682 [==============================] - 0s 5us/step - loss: 0.0114 - acc: 0.9975 - val_loss: 0.0102 - val_acc: 0.9979\n",
      "Epoch 65/100\n",
      "99682/99682 [==============================] - 0s 5us/step - loss: 0.0114 - acc: 0.9975 - val_loss: 0.0102 - val_acc: 0.9979\n",
      "Epoch 66/100\n",
      "99682/99682 [==============================] - 0s 5us/step - loss: 0.0114 - acc: 0.9975 - val_loss: 0.0102 - val_acc: 0.9979\n",
      "Epoch 67/100\n",
      "99682/99682 [==============================] - 0s 5us/step - loss: 0.0114 - acc: 0.9975 - val_loss: 0.0102 - val_acc: 0.9979\n",
      "Epoch 68/100\n",
      "99682/99682 [==============================] - 0s 5us/step - loss: 0.0114 - acc: 0.9975 - val_loss: 0.0102 - val_acc: 0.9979\n",
      "Epoch 69/100\n",
      "99682/99682 [==============================] - 0s 5us/step - loss: 0.0114 - acc: 0.9975 - val_loss: 0.0102 - val_acc: 0.9979\n",
      "Epoch 70/100\n",
      "99682/99682 [==============================] - 0s 5us/step - loss: 0.0114 - acc: 0.9975 - val_loss: 0.0102 - val_acc: 0.9979\n",
      "Epoch 71/100\n",
      "99682/99682 [==============================] - 0s 5us/step - loss: 0.0114 - acc: 0.9975 - val_loss: 0.0102 - val_acc: 0.9979\n",
      "Epoch 72/100\n",
      "99682/99682 [==============================] - 0s 5us/step - loss: 0.0114 - acc: 0.9975 - val_loss: 0.0102 - val_acc: 0.9979\n",
      "Epoch 73/100\n",
      "99682/99682 [==============================] - 0s 5us/step - loss: 0.0114 - acc: 0.9975 - val_loss: 0.0102 - val_acc: 0.9979\n",
      "Epoch 74/100\n",
      "99682/99682 [==============================] - 0s 5us/step - loss: 0.0114 - acc: 0.9975 - val_loss: 0.0102 - val_acc: 0.9979\n",
      "Epoch 75/100\n",
      "99682/99682 [==============================] - 0s 4us/step - loss: 0.0114 - acc: 0.9975 - val_loss: 0.0102 - val_acc: 0.9979\n",
      "Epoch 76/100\n",
      "99682/99682 [==============================] - 0s 4us/step - loss: 0.0114 - acc: 0.9975 - val_loss: 0.0102 - val_acc: 0.9979\n",
      "Epoch 77/100\n",
      "99682/99682 [==============================] - 0s 5us/step - loss: 0.0114 - acc: 0.9975 - val_loss: 0.0102 - val_acc: 0.9979\n",
      "Epoch 78/100\n",
      "99682/99682 [==============================] - 0s 5us/step - loss: 0.0114 - acc: 0.9975 - val_loss: 0.0102 - val_acc: 0.9979\n",
      "Epoch 79/100\n",
      "99682/99682 [==============================] - 0s 5us/step - loss: 0.0114 - acc: 0.9975 - val_loss: 0.0102 - val_acc: 0.9979\n",
      "Epoch 80/100\n",
      "99682/99682 [==============================] - 0s 5us/step - loss: 0.0114 - acc: 0.9975 - val_loss: 0.0102 - val_acc: 0.9979\n",
      "Epoch 81/100\n",
      "99682/99682 [==============================] - 0s 5us/step - loss: 0.0114 - acc: 0.9975 - val_loss: 0.0102 - val_acc: 0.9979\n",
      "Epoch 82/100\n",
      "99682/99682 [==============================] - 0s 5us/step - loss: 0.0114 - acc: 0.9975 - val_loss: 0.0102 - val_acc: 0.9979\n",
      "Epoch 83/100\n",
      "99682/99682 [==============================] - 1s 5us/step - loss: 0.0114 - acc: 0.9975 - val_loss: 0.0102 - val_acc: 0.9979\n",
      "Epoch 84/100\n",
      "99682/99682 [==============================] - 0s 5us/step - loss: 0.0114 - acc: 0.9975 - val_loss: 0.0102 - val_acc: 0.9979\n",
      "Epoch 85/100\n",
      "99682/99682 [==============================] - 1s 6us/step - loss: 0.0114 - acc: 0.9975 - val_loss: 0.0102 - val_acc: 0.9979\n",
      "Epoch 86/100\n",
      "99682/99682 [==============================] - 0s 5us/step - loss: 0.0114 - acc: 0.9975 - val_loss: 0.0102 - val_acc: 0.9979\n",
      "Epoch 87/100\n",
      "99682/99682 [==============================] - 1s 5us/step - loss: 0.0114 - acc: 0.9975 - val_loss: 0.0102 - val_acc: 0.9979\n",
      "Epoch 88/100\n",
      "99682/99682 [==============================] - 1s 7us/step - loss: 0.0114 - acc: 0.9975 - val_loss: 0.0102 - val_acc: 0.9979\n",
      "Epoch 89/100\n",
      "99682/99682 [==============================] - 0s 5us/step - loss: 0.0114 - acc: 0.9975 - val_loss: 0.0102 - val_acc: 0.9979\n",
      "Epoch 90/100\n",
      "99682/99682 [==============================] - 1s 5us/step - loss: 0.0114 - acc: 0.9975 - val_loss: 0.0102 - val_acc: 0.9979\n",
      "Epoch 91/100\n",
      "99682/99682 [==============================] - 0s 5us/step - loss: 0.0114 - acc: 0.9975 - val_loss: 0.0102 - val_acc: 0.9979\n",
      "Epoch 92/100\n",
      "99682/99682 [==============================] - 1s 5us/step - loss: 0.0114 - acc: 0.9975 - val_loss: 0.0102 - val_acc: 0.9979\n",
      "Epoch 93/100\n",
      "99682/99682 [==============================] - 0s 5us/step - loss: 0.0114 - acc: 0.9975 - val_loss: 0.0102 - val_acc: 0.9979\n",
      "Epoch 94/100\n",
      "99682/99682 [==============================] - 0s 5us/step - loss: 0.0114 - acc: 0.9975 - val_loss: 0.0102 - val_acc: 0.9979\n",
      "Epoch 95/100\n",
      "99682/99682 [==============================] - 0s 5us/step - loss: 0.0114 - acc: 0.9975 - val_loss: 0.0102 - val_acc: 0.9979\n",
      "Epoch 96/100\n",
      "99682/99682 [==============================] - 0s 5us/step - loss: 0.0114 - acc: 0.9975 - val_loss: 0.0102 - val_acc: 0.9979\n",
      "Epoch 97/100\n",
      "99682/99682 [==============================] - 0s 5us/step - loss: 0.0114 - acc: 0.9975 - val_loss: 0.0102 - val_acc: 0.9979\n",
      "Epoch 98/100\n",
      "99682/99682 [==============================] - 0s 4us/step - loss: 0.0114 - acc: 0.9975 - val_loss: 0.0102 - val_acc: 0.9979\n",
      "Epoch 99/100\n",
      "99682/99682 [==============================] - 0s 5us/step - loss: 0.0114 - acc: 0.9975 - val_loss: 0.0102 - val_acc: 0.9979\n",
      "Epoch 100/100\n",
      "99682/99682 [==============================] - 1s 6us/step - loss: 0.0114 - acc: 0.9975 - val_loss: 0.0102 - val_acc: 0.9979\n"
     ]
    },
    {
     "data": {
      "text/plain": [
       "<keras.callbacks.callbacks.History at 0x23d5d766a08>"
      ]
     },
     "execution_count": 14,
     "metadata": {},
     "output_type": "execute_result"
    }
   ],
   "source": [
    "model.fit(train_x, train_y, epochs=100, batch_size=512, validation_data=(val_x, val_y))"
   ]
  },
  {
   "cell_type": "code",
   "execution_count": null,
   "metadata": {},
   "outputs": [],
   "source": []
  },
  {
   "cell_type": "code",
   "execution_count": 15,
   "metadata": {},
   "outputs": [
    {
     "name": "stdout",
     "output_type": "stream",
     "text": [
      "85443/85443 [==============================] - 2s 21us/step\n"
     ]
    },
    {
     "data": {
      "text/plain": [
       "[0.016588381820118663, 0.9961962699890137]"
      ]
     },
     "execution_count": 15,
     "metadata": {},
     "output_type": "execute_result"
    }
   ],
   "source": [
    "Eval_results = model.evaluate(test_x, test_y)\n",
    "Eval_results"
   ]
  },
  {
   "cell_type": "code",
   "execution_count": 16,
   "metadata": {},
   "outputs": [
    {
     "data": {
      "text/plain": [
       "dict_keys(['val_loss', 'val_acc', 'loss', 'acc'])"
      ]
     },
     "execution_count": 16,
     "metadata": {},
     "output_type": "execute_result"
    }
   ],
   "source": [
    "model.history.history\n",
    "model.history.history.keys()"
   ]
  },
  {
   "cell_type": "code",
   "execution_count": 17,
   "metadata": {},
   "outputs": [
    {
     "data": {
      "image/png": "[encoded data removed]",
      "text/plain": [
       "<Figure size 432x288 with 1 Axes>"
      ]
     },
     "metadata": {
      "needs_background": "light"
     },
     "output_type": "display_data"
    }
   ],
   "source": [
    "import matplotlib.pyplot as plt\n",
    "\n",
    "history_dict = model.history.history\n",
    "acc = history_dict['acc']\n",
    "# loss_values = history_dict['loss']\n",
    "val_acc = history_dict['val_acc']\n",
    "# val_loss_values = history_dict['val_loss']\n",
    "\n",
    "epochs = range(1, len(acc) + 1)\n",
    "epochs_val = range(1, len(val_acc) + 1)\n",
    "\n",
    "plt.plot(epochs, acc, '.', label='Training Accuracy')\n",
    "plt.plot(epochs_val, val_acc, 'b', label='Validation Accuracy')\n",
    "plt.title('Training and validation Accuracy')\n",
    "plt.xlabel('Epochs')\n",
    "plt.ylabel('Accuracy')\n",
    "plt.legend()\n",
    "plt.show()"
   ]
  },
  {
   "cell_type": "code",
   "execution_count": 18,
   "metadata": {},
   "outputs": [
    {
     "data": {
      "image/png": "[encoded data removed]",
      "text/plain": [
       "<Figure size 432x288 with 1 Axes>"
      ]
     },
     "metadata": {
      "needs_background": "light"
     },
     "output_type": "display_data"
    }
   ],
   "source": [
    "history_dict = model.history.history\n",
    "# acc = history_dict['acc']\n",
    "loss_values = history_dict['loss']\n",
    "# val_acc = history_dict['val_acc']\n",
    "val_loss_values = history_dict['val_loss']\n",
    "\n",
    "epochs = range(1, len(acc) + 1)\n",
    "epochs_val = range(1, len(val_acc) + 1)\n",
    "\n",
    "plt.plot(epochs, loss_values, '.', label='Training Loss')\n",
    "plt.plot(epochs_val, val_loss_values, 'b', label='Validation Loss')\n",
    "plt.title('Training and validation Accuracy')\n",
    "plt.xlabel('Epochs')\n",
    "plt.ylabel('Loss')\n",
    "plt.legend()\n",
    "plt.show()"
   ]
  },
  {
   "cell_type": "markdown",
   "metadata": {},
   "source": [
    "### Try to avoid overfitting"
   ]
  },
  {
   "cell_type": "code",
   "execution_count": 19,
   "metadata": {},
   "outputs": [],
   "source": [
    "from keras import models\n",
    "from keras import layers\n",
    "from keras import regularizers\n",
    "\n",
    "model = models.Sequential()\n",
    "model.add(layers.Dense(30,kernel_regularizer=regularizers.l1(0.001) , activation= 'relu', input_shape = (train_x.shape[1],  ) ))\n",
    "model.add(layers.Dropout(0.5))\n",
    "model.add(layers.Dense(16,kernel_regularizer=regularizers.l2(0.001), activation='relu'))\n",
    "model.add(layers.Dropout(0.5))\n",
    "model.add(layers.Dense(4,kernel_regularizer=regularizers.l2(0.001), activation='relu'))\n",
    "model.add(layers.Dense(1, activation='relu'))\n",
    "\n",
    "model.compile(optimizer='rmsprop', loss='binary_crossentropy', metrics= ['acc'] )#binary_crossentropy"
   ]
  },
  {
   "cell_type": "code",
   "execution_count": 20,
   "metadata": {
    "scrolled": false
   },
   "outputs": [
    {
     "name": "stdout",
     "output_type": "stream",
     "text": [
      "Train on 99682 samples, validate on 99682 samples\n",
      "Epoch 1/20\n",
      "99682/99682 [==============================] - 1s 11us/step - loss: 0.1869 - acc: 0.9931 - val_loss: 0.0980 - val_acc: 0.9984\n",
      "Epoch 2/20\n",
      "99682/99682 [==============================] - 1s 7us/step - loss: 0.0634 - acc: 0.9977 - val_loss: 0.0339 - val_acc: 0.9984\n",
      "Epoch 3/20\n",
      "99682/99682 [==============================] - 1s 8us/step - loss: 0.0287 - acc: 0.9980 - val_loss: 0.0144 - val_acc: 0.9984\n",
      "Epoch 4/20\n",
      "99682/99682 [==============================] - 1s 8us/step - loss: 0.0208 - acc: 0.9979 - val_loss: 0.0091 - val_acc: 0.9989\n",
      "Epoch 5/20\n",
      "99682/99682 [==============================] - 1s 7us/step - loss: 0.0178 - acc: 0.9982 - val_loss: 0.0087 - val_acc: 0.9991\n",
      "Epoch 6/20\n",
      "99682/99682 [==============================] - 1s 7us/step - loss: 0.0136 - acc: 0.9983 - val_loss: 0.0079 - val_acc: 0.9991\n",
      "Epoch 7/20\n",
      "99682/99682 [==============================] - 1s 7us/step - loss: 0.0129 - acc: 0.9982 - val_loss: 0.0087 - val_acc: 0.9990\n",
      "Epoch 8/20\n",
      "99682/99682 [==============================] - 1s 6us/step - loss: 0.0133 - acc: 0.9981 - val_loss: 0.0083 - val_acc: 0.9992\n",
      "Epoch 9/20\n",
      "99682/99682 [==============================] - 1s 7us/step - loss: 0.0137 - acc: 0.9982 - val_loss: 0.0075 - val_acc: 0.9991\n",
      "Epoch 10/20\n",
      "99682/99682 [==============================] - 1s 7us/step - loss: 0.0119 - acc: 0.9983 - val_loss: 0.0077 - val_acc: 0.9992\n",
      "Epoch 11/20\n",
      "99682/99682 [==============================] - 1s 7us/step - loss: 0.0125 - acc: 0.9983 - val_loss: 0.0078 - val_acc: 0.9990\n",
      "Epoch 12/20\n",
      "99682/99682 [==============================] - 1s 6us/step - loss: 0.0129 - acc: 0.9983 - val_loss: 0.0080 - val_acc: 0.9991\n",
      "Epoch 13/20\n",
      "99682/99682 [==============================] - 1s 7us/step - loss: 0.0115 - acc: 0.9981 - val_loss: 0.0070 - val_acc: 0.9990\n",
      "Epoch 14/20\n",
      "99682/99682 [==============================] - 1s 7us/step - loss: 0.0124 - acc: 0.9983 - val_loss: 0.0079 - val_acc: 0.9990\n",
      "Epoch 15/20\n",
      "99682/99682 [==============================] - 1s 6us/step - loss: 0.0133 - acc: 0.9983 - val_loss: 0.0078 - val_acc: 0.9990\n",
      "Epoch 16/20\n",
      "99682/99682 [==============================] - 1s 6us/step - loss: 0.0125 - acc: 0.9983 - val_loss: 0.0069 - val_acc: 0.9989\n",
      "Epoch 17/20\n",
      "99682/99682 [==============================] - 1s 6us/step - loss: 0.0129 - acc: 0.9984 - val_loss: 0.0081 - val_acc: 0.9989\n",
      "Epoch 18/20\n",
      "99682/99682 [==============================] - 1s 8us/step - loss: 0.0138 - acc: 0.9982 - val_loss: 0.0079 - val_acc: 0.9989\n",
      "Epoch 19/20\n",
      "99682/99682 [==============================] - 1s 6us/step - loss: 0.0138 - acc: 0.9982 - val_loss: 0.0066 - val_acc: 0.9990\n",
      "Epoch 20/20\n",
      "99682/99682 [==============================] - 1s 6us/step - loss: 0.0134 - acc: 0.9982 - val_loss: 0.0068 - val_acc: 0.9989\n"
     ]
    },
    {
     "data": {
      "text/plain": [
       "<keras.callbacks.callbacks.History at 0x23d5e493108>"
      ]
     },
     "execution_count": 20,
     "metadata": {},
     "output_type": "execute_result"
    }
   ],
   "source": [
    "model.fit(train_x, train_y, epochs=20, batch_size=512, validation_data=(val_x, val_y))"
   ]
  },
  {
   "cell_type": "code",
   "execution_count": 21,
   "metadata": {},
   "outputs": [
    {
     "data": {
      "image/png": "[encoded data removed]",
      "text/plain": [
       "<Figure size 432x288 with 1 Axes>"
      ]
     },
     "metadata": {
      "needs_background": "light"
     },
     "output_type": "display_data"
    }
   ],
   "source": [
    "history_dict = model.history.history\n",
    "acc = history_dict['acc']\n",
    "# loss_values = history_dict['loss']\n",
    "val_acc = history_dict['val_acc']\n",
    "# val_loss_values = history_dict['val_loss']\n",
    "\n",
    "epochs = range(1, len(acc) + 1)\n",
    "epochs_val = range(1, len(val_acc) + 1)\n",
    "\n",
    "plt.plot(epochs, acc, '.', label='Training Accuracy')\n",
    "plt.plot(epochs_val, val_acc, 'b', label='Validation Accuracy')\n",
    "plt.title('Training and validation Accuracy')\n",
    "plt.xlabel('Epochs')\n",
    "plt.ylabel('Accuracy')\n",
    "plt.legend()\n",
    "plt.show()"
   ]
  },
  {
   "cell_type": "code",
   "execution_count": 22,
   "metadata": {},
   "outputs": [
    {
     "data": {
      "image/png": "[encoded data removed]",
      "text/plain": [
       "<Figure size 432x288 with 1 Axes>"
      ]
     },
     "metadata": {
      "needs_background": "light"
     },
     "output_type": "display_data"
    }
   ],
   "source": [
    "history_dict = model.history.history\n",
    "# acc = history_dict['acc']\n",
    "loss_values = history_dict['loss']\n",
    "# val_acc = history_dict['val_acc']\n",
    "val_loss_values = history_dict['val_loss']\n",
    "\n",
    "epochs = range(1, len(loss_values) + 1)\n",
    "epochs_val = range(1, len(val_loss_values) + 1)\n",
    "\n",
    "plt.plot(epochs, loss_values, '.', label='Training Loss')\n",
    "plt.plot(epochs_val, val_loss_values, 'b', label='Validation Loss')\n",
    "plt.title('Training and validation Loss')\n",
    "plt.xlabel('Epochs')\n",
    "plt.ylabel('Loss')\n",
    "plt.legend()\n",
    "plt.show()"
   ]
  },
  {
   "cell_type": "code",
   "execution_count": 23,
   "metadata": {},
   "outputs": [
    {
     "name": "stdout",
     "output_type": "stream",
     "text": [
      "85443/85443 [==============================] - 1s 14us/step\n"
     ]
    },
    {
     "data": {
      "text/plain": [
       "[0.005980760197636856, 0.9992977976799011]"
      ]
     },
     "execution_count": 23,
     "metadata": {},
     "output_type": "execute_result"
    }
   ],
   "source": [
    "Eval_results = model.evaluate(test_x, test_y)\n",
    "Eval_results"
   ]
  },
  {
   "cell_type": "code",
   "execution_count": 24,
   "metadata": {},
   "outputs": [
    {
     "name": "stdout",
     "output_type": "stream",
     "text": [
      "This is a Fraudulent Transecion\n"
     ]
    }
   ],
   "source": [
    "predicted = model.predict(test_x)\n",
    "\n",
    "if predicted[0][0] == 0:\n",
    "    print(\"This is a Fraudulent Transecion\")\n",
    "else:\n",
    "    print('This is safe Transection....')"
   ]
  },
  {
   "cell_type": "code",
   "execution_count": null,
   "metadata": {},
   "outputs": [],
   "source": []
  },
  {
   "cell_type": "code",
   "execution_count": null,
   "metadata": {},
   "outputs": [],
   "source": []
  }
 ],
 "metadata": {
  "kernelspec": {
   "display_name": "Python 3",
   "language": "python",
   "name": "python3"
  },
  "language_info": {
   "codemirror_mode": {
    "name": "ipython",
    "version": 3
   },
   "file_extension": ".py",
   "mimetype": "text/x-python",
   "name": "python",
   "nbconvert_exporter": "python",
   "pygments_lexer": "ipython3",
   "version": "3.7.4"
  }
 },
 "nbformat": 4,
 "nbformat_minor": 2
}
