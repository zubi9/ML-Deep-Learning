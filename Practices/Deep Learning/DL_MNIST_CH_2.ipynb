{
 "cells": [
  {
   "cell_type": "code",
   "execution_count": 1,
   "metadata": {
    "id": "mKVVUpg5bq5K"
   },
   "outputs": [],
   "source": [
    "import tensorflow as tf"
   ]
  },
  {
   "cell_type": "code",
   "execution_count": 2,
   "metadata": {
    "id": "SCZO1HWhbq5N"
   },
   "outputs": [],
   "source": [
    "from tensorflow.keras.datasets import mnist"
   ]
  },
  {
   "cell_type": "code",
   "execution_count": 3,
   "metadata": {
    "id": "ubuWHj7Hbq5O"
   },
   "outputs": [],
   "source": [
    "import matplotlib.pyplot as plt\n",
    "import numpy as np\n",
    "import pandas as pd"
   ]
  },
  {
   "cell_type": "markdown",
   "metadata": {
    "id": "WBnKvmfEbq5P"
   },
   "source": [
    "# Loading the MNIST dataset in Keras"
   ]
  },
  {
   "cell_type": "code",
   "execution_count": 4,
   "metadata": {
    "colab": {
     "base_uri": "https://localhost:8080/"
    },
    "id": "1yhEyo6jbq5Q",
    "outputId": "4fc2936d-ff47-48d1-fe1b-8cc7f2a22f70"
   },
   "outputs": [],
   "source": [
    "(train_images, train_labels), (test_images, test_labels) = mnist.load_data()"
   ]
  },
  {
   "cell_type": "code",
   "execution_count": 5,
   "metadata": {
    "id": "ZVn80uK6bq5Q"
   },
   "outputs": [
    {
     "data": {
      "image/png": "[encoded data removed]",
      "text/plain": [
       "<Figure size 432x288 with 1 Axes>"
      ]
     },
     "metadata": {
      "needs_background": "light"
     },
     "output_type": "display_data"
    }
   ],
   "source": [
    "sample = 4\n",
    "image = test_images[sample]\n",
    "# plot the sample\n",
    "fig = plt.figure\n",
    "# plt.imshow(image, cmap='gray')\n",
    "# plt.imshow(image, cmap='gray_r')\n",
    "plt.imshow(image, cmap = plt.cm.binary)\n",
    "plt.show()"
   ]
  },
  {
   "cell_type": "code",
   "execution_count": 6,
   "metadata": {},
   "outputs": [
    {
     "data": {
      "image/png": "[encoded data removed]",
      "text/plain": [
       "<Figure size 540x288 with 10 Axes>"
      ]
     },
     "metadata": {
      "needs_background": "light"
     },
     "output_type": "display_data"
    }
   ],
   "source": [
    "num = 10\n",
    "images = train_images[:num]\n",
    "labels = train_labels[:num]\n",
    "\n",
    "num_row = 2\n",
    "num_col = 5\n",
    "# plot images\n",
    "fig, axes = plt.subplots(num_row, num_col, figsize=(1.5*num_col,2*num_row))\n",
    "for i in range(num):\n",
    "    ax = axes[i//num_col, i%num_col]\n",
    "    ax.imshow(images[i], cmap='gray')\n",
    "    ax.set_title('Label: {}'.format(labels[i]))\n",
    "plt.tight_layout()\n",
    "plt.show()"
   ]
  },
  {
   "cell_type": "code",
   "execution_count": 7,
   "metadata": {
    "colab": {
     "base_uri": "https://localhost:8080/"
    },
    "id": "_ryLq4sBbq5Q",
    "outputId": "d3f23d6b-8d22-4722-e3de-0eeafbdd475b"
   },
   "outputs": [
    {
     "name": "stdout",
     "output_type": "stream",
     "text": [
      "60000\n",
      "60000\n"
     ]
    }
   ],
   "source": [
    "print(len(train_images))\n",
    "print(len(train_labels))"
   ]
  },
  {
   "cell_type": "code",
   "execution_count": 8,
   "metadata": {
    "colab": {
     "base_uri": "https://localhost:8080/"
    },
    "id": "ywFUA1Kybq5S",
    "outputId": "6609ef6a-c705-4519-ac97-23b7b1d12b92"
   },
   "outputs": [
    {
     "name": "stdout",
     "output_type": "stream",
     "text": [
      "10000\n",
      "10000\n"
     ]
    }
   ],
   "source": [
    "print(len(test_images))\n",
    "print(len(test_labels))"
   ]
  },
  {
   "cell_type": "code",
   "execution_count": 9,
   "metadata": {
    "colab": {
     "base_uri": "https://localhost:8080/"
    },
    "id": "L6Y2tfBYbq5T",
    "outputId": "96bd3a0b-dc03-4674-9cd2-5c564be61c47"
   },
   "outputs": [
    {
     "name": "stdout",
     "output_type": "stream",
     "text": [
      "(60000, 28, 28)\n",
      "(10000, 28, 28)\n"
     ]
    }
   ],
   "source": [
    "print(train_images.shape)\n",
    "print(test_images.shape)"
   ]
  },
  {
   "cell_type": "code",
   "execution_count": 10,
   "metadata": {
    "colab": {
     "base_uri": "https://localhost:8080/"
    },
    "id": "p-0Vj98mbq5U",
    "outputId": "1d60980b-1741-4d61-a7d1-1cbe7f765599"
   },
   "outputs": [
    {
     "name": "stdout",
     "output_type": "stream",
     "text": [
      "[7 2 1 ... 4 5 6]\n",
      "[0 1 2 3 4 5 6 7 8 9]\n"
     ]
    }
   ],
   "source": [
    "print(test_labels)\n",
    "print(np.unique(test_labels))"
   ]
  },
  {
   "cell_type": "markdown",
   "metadata": {
    "id": "V8SBsKH7bq5U"
   },
   "source": [
    "# The network Architechture"
   ]
  },
  {
   "cell_type": "code",
   "execution_count": 11,
   "metadata": {
    "id": "9pSZumvhbq5U"
   },
   "outputs": [
    {
     "name": "stderr",
     "output_type": "stream",
     "text": [
      "Using TensorFlow backend.\n"
     ]
    }
   ],
   "source": [
    "from keras import models\n",
    "from keras import layers\n",
    "network = models.Sequential()\n",
    "network.add(layers.Dense(512, activation='relu', input_shape=(28 * 28,)))\n",
    "# The rectified linear activation function or ReLU\n",
    "# for short is a piecewise linear function that will output the input directly if it is positive,\n",
    "# otherwise, it will output zero\n",
    "network.add(layers.Dense(10, activation='softmax'))\n",
    "# Softmax turn logits (numeric output of the last linear layer of a multi-class classification neural network)\n",
    "# into probabilities by take the exponents of each output and then normalize each number by the sum of those exponents\n",
    "# so the entire output vector adds up to one"
   ]
  },
  {
   "cell_type": "markdown",
   "metadata": {
    "id": "qajLzBgFbq5U"
   },
   "source": [
    "# The compilation step"
   ]
  },
  {
   "cell_type": "code",
   "execution_count": 12,
   "metadata": {
    "id": "VZe9EjHibq5V"
   },
   "outputs": [],
   "source": [
    "network.compile(optimizer='rmsprop',\n",
    "loss='categorical_crossentropy',\n",
    "metrics=['accuracy'])"
   ]
  },
  {
   "cell_type": "markdown",
   "metadata": {
    "id": "K33QKDl9bq5V"
   },
   "source": [
    "# Preparing the image data"
   ]
  },
  {
   "cell_type": "code",
   "execution_count": 13,
   "metadata": {
    "id": "WTnlQXNKbq5V"
   },
   "outputs": [],
   "source": [
    "train_images = train_images.reshape((60000, 28 * 28))   #changed from 3d to 2d\n",
    "train_images = train_images.astype('float32') / 255    #Normalization scale in bt 0-1\n",
    "test_images = test_images.reshape((10000, 28 * 28))  #changed from 3d to 2d\n",
    "test_images = test_images.astype('float32') / 255    # Normalization scale in bt 0-1"
   ]
  },
  {
   "cell_type": "code",
   "execution_count": 14,
   "metadata": {},
   "outputs": [
    {
     "data": {
      "text/plain": [
       "(60000, 784)"
      ]
     },
     "execution_count": 14,
     "metadata": {},
     "output_type": "execute_result"
    }
   ],
   "source": [
    "train_images.shape"
   ]
  },
  {
   "cell_type": "markdown",
   "metadata": {
    "id": "Jc6xtI-Sbq5W"
   },
   "source": [
    "# Preparing the labels"
   ]
  },
  {
   "cell_type": "code",
   "execution_count": 15,
   "metadata": {
    "id": "XzhB4K8Xbq5W"
   },
   "outputs": [],
   "source": [
    "# On_hot_encode\n",
    "from keras.utils import to_categorical\n",
    "train_labels = to_categorical(train_labels)\n",
    "test_labels = to_categorical(test_labels)"
   ]
  },
  {
   "cell_type": "code",
   "execution_count": 16,
   "metadata": {
    "scrolled": true
   },
   "outputs": [],
   "source": [
    "# train_labels.shape\n",
    "# train_labels[1:1,::]"
   ]
  },
  {
   "cell_type": "code",
   "execution_count": 17,
   "metadata": {},
   "outputs": [
    {
     "data": {
      "text/plain": [
       "array([[1., 0., 0.],\n",
       "       [0., 0., 1.],\n",
       "       [0., 1., 0.],\n",
       "       [0., 0., 1.],\n",
       "       [1., 0., 0.]], dtype=float32)"
      ]
     },
     "execution_count": 17,
     "metadata": {},
     "output_type": "execute_result"
    }
   ],
   "source": [
    "#  Consider an array of 5 labels out of a set of 3 classes {0, 1, 2}\n",
    "lbl =np.array([0, 2, 1, 2, 0])\n",
    "lbl.shape\n",
    "# `to_categorical` converts this into a matrix with as many\n",
    "# columns as there are classes. The number of rows\n",
    "# stays the same.\n",
    "cats = to_categorical(lbl)\n",
    "cats"
   ]
  },
  {
   "cell_type": "markdown",
   "metadata": {
    "id": "ve7zdfkLbq5W"
   },
   "source": [
    "# Train model"
   ]
  },
  {
   "cell_type": "code",
   "execution_count": 18,
   "metadata": {
    "colab": {
     "base_uri": "https://localhost:8080/"
    },
    "id": "rmP0VDiqbq5W",
    "outputId": "9d55990d-5cbc-4977-f4b0-6a01c5955483"
   },
   "outputs": [],
   "source": [
    "# network.fit(train_images, train_labels, epochs=5, batch_size=128)"
   ]
  },
  {
   "cell_type": "code",
   "execution_count": 19,
   "metadata": {
    "colab": {
     "base_uri": "https://localhost:8080/"
    },
    "id": "Y_BZWn4Rbq5W",
    "outputId": "294d5697-b0db-4322-b1f3-989280162640"
   },
   "outputs": [],
   "source": [
    "# test_loss, test_acc = network.evaluate(test_images, test_labels)\n",
    "# print('test_acc:', test_acc)\n",
    "# print('test_loss: ', test_loss)"
   ]
  },
  {
   "cell_type": "code",
   "execution_count": 20,
   "metadata": {},
   "outputs": [],
   "source": [
    "# network.summary()"
   ]
  },
  {
   "cell_type": "code",
   "execution_count": 21,
   "metadata": {},
   "outputs": [
    {
     "name": "stdout",
     "output_type": "stream",
     "text": [
      "WARNING:tensorflow:From C:\\Users\\zubim\\Anaconda3\\lib\\site-packages\\keras\\backend\\tensorflow_backend.py:422: The name tf.global_variables is deprecated. Please use tf.compat.v1.global_variables instead.\n",
      "\n"
     ]
    },
    {
     "data": {
      "text/plain": [
       "2"
      ]
     },
     "execution_count": 21,
     "metadata": {},
     "output_type": "execute_result"
    }
   ],
   "source": [
    "to_pred = test_images[9].reshape(1, 28*28)\n",
    "to_pred = to_pred.astype('float32') / 256\n",
    "network.predict(to_pred).argmax()"
   ]
  },
  {
   "cell_type": "code",
   "execution_count": 22,
   "metadata": {},
   "outputs": [
    {
     "data": {
      "text/plain": [
       "array([[0., 0., 0., ..., 0., 0., 0.],\n",
       "       [0., 0., 0., ..., 0., 0., 0.],\n",
       "       [0., 0., 0., ..., 0., 0., 0.],\n",
       "       ...,\n",
       "       [0., 0., 0., ..., 0., 0., 0.],\n",
       "       [0., 0., 0., ..., 0., 0., 0.],\n",
       "       [0., 0., 0., ..., 0., 0., 0.]], dtype=float32)"
      ]
     },
     "execution_count": 22,
     "metadata": {},
     "output_type": "execute_result"
    }
   ],
   "source": [
    "n= 20\n",
    "batch_size = train_images[128 * n:128 * (n + 1)]\n",
    "batch_size"
   ]
  },
  {
   "cell_type": "code",
   "execution_count": null,
   "metadata": {},
   "outputs": [],
   "source": []
  },
  {
   "cell_type": "markdown",
   "metadata": {},
   "source": [
    "### naive implementation of an element-wise relu operation:"
   ]
  },
  {
   "cell_type": "code",
   "execution_count": 23,
   "metadata": {},
   "outputs": [
    {
     "data": {
      "text/plain": [
       "array([[1., 0., 0.],\n",
       "       [3., 0., 1.],\n",
       "       [0., 1., 4.],\n",
       "       [0., 0., 1.],\n",
       "       [1., 0., 0.]])"
      ]
     },
     "execution_count": 23,
     "metadata": {},
     "output_type": "execute_result"
    }
   ],
   "source": [
    "def naive_relu(x):\n",
    "    assert len(x.shape) == 2\n",
    "    x = x.copy()\n",
    "    for i in range(x.shape[0]):\n",
    "        for j in range(x.shape[1]):\n",
    "            x[i, j] = max(x[i, j], 0)\n",
    "    return x\n",
    "\n",
    "d2 = np.array([[1., -1., -4.],\n",
    "               [3., 0., 1.],\n",
    "               [-10., 1., 4.],\n",
    "               [0., -5., 1.],\n",
    "               [1., 0., 0.]])\n",
    "\n",
    "naive_relu(d2)"
   ]
  },
  {
   "cell_type": "code",
   "execution_count": 24,
   "metadata": {},
   "outputs": [
    {
     "data": {
      "text/plain": [
       "-4.0"
      ]
     },
     "execution_count": 24,
     "metadata": {},
     "output_type": "execute_result"
    }
   ],
   "source": [
    "d2[0,2]"
   ]
  },
  {
   "cell_type": "code",
   "execution_count": 25,
   "metadata": {},
   "outputs": [],
   "source": [
    "arr_2d =  np.array([[1., -1., -4.],\n",
    "               [3., 0., 1.],\n",
    "               [-10., 1., 4.],\n",
    "               [0., -5., 1.],\n",
    "               [1., 0., 0.]])"
   ]
  },
  {
   "cell_type": "code",
   "execution_count": 26,
   "metadata": {},
   "outputs": [
    {
     "name": "stdout",
     "output_type": "stream",
     "text": [
      "[[1. 0. 0.]\n",
      " [3. 0. 1.]\n",
      " [0. 1. 4.]\n",
      " [0. 0. 1.]\n",
      " [1. 0. 0.]]\n"
     ]
    }
   ],
   "source": [
    "for i in range(arr_2d.shape[0]):        # here d2.shape[0] = no. of rows in d2 array\n",
    "    for j in range(arr_2d.shape[1]):    # here d2.shape[1] = no. of cols in d2 array\n",
    "        arr_2d[i, j] = max(arr_2d[i, j], 0)\n",
    "print(arr_2d)"
   ]
  },
  {
   "cell_type": "markdown",
   "metadata": {},
   "source": [
    "### elemant wise addition"
   ]
  },
  {
   "cell_type": "code",
   "execution_count": 27,
   "metadata": {},
   "outputs": [
    {
     "name": "stdout",
     "output_type": "stream",
     "text": [
      "[[  1.  -1.  -4.]\n",
      " [  3.   0.   1.]\n",
      " [-10.   1.   4.]\n",
      " [  0.  -5.   1.]\n",
      " [  1.   0.   0.]]\n",
      "\n",
      "[[1. 0. 0.]\n",
      " [3. 0. 1.]\n",
      " [0. 1. 4.]\n",
      " [0. 0. 1.]\n",
      " [1. 0. 0.]]\n"
     ]
    }
   ],
   "source": [
    "b = np.array([[1., -1., -4.],\n",
    "               [3., 0., 1.],\n",
    "               [-10., 1., 4.],\n",
    "               [0., -5., 1.],\n",
    "               [1., 0., 0.]])\n",
    "\n",
    "print(b)\n",
    "print()\n",
    "print(arr_2d)"
   ]
  },
  {
   "cell_type": "code",
   "execution_count": 28,
   "metadata": {},
   "outputs": [
    {
     "data": {
      "text/plain": [
       "array([[  2.,  -1.,  -4.],\n",
       "       [  6.,   0.,   2.],\n",
       "       [-10.,   2.,   8.],\n",
       "       [  0.,  -5.,   2.],\n",
       "       [  2.,   0.,   0.]])"
      ]
     },
     "execution_count": 28,
     "metadata": {},
     "output_type": "execute_result"
    }
   ],
   "source": [
    "def naive_add(x, y):\n",
    "    assert len(x.shape) == 2\n",
    "    assert x.shape == y.shape\n",
    "    \n",
    "    x = x.copy()\n",
    "    for i in range(x.shape[0]):\n",
    "        for j in range(x.shape[1]):\n",
    "            x[i, j] += y[i, j]\n",
    "    return x\n",
    "\n",
    "naive_add(arr_2d,b )"
   ]
  },
  {
   "cell_type": "markdown",
   "metadata": {},
   "source": [
    "### Basic linear algebra subprograms which can be done esily with numpy"
   ]
  },
  {
   "cell_type": "code",
   "execution_count": 29,
   "metadata": {},
   "outputs": [
    {
     "name": "stdout",
     "output_type": "stream",
     "text": [
      "[[  2.  -1.  -4.]\n",
      " [  6.   0.   2.]\n",
      " [-10.   2.   8.]\n",
      " [  0.  -5.   2.]\n",
      " [  2.   0.   0.]]\n",
      "\n",
      "[[1. 0. 0.]\n",
      " [3. 0. 1.]\n",
      " [0. 1. 4.]\n",
      " [0. 0. 1.]\n",
      " [1. 0. 0.]]\n"
     ]
    }
   ],
   "source": [
    "z = arr_2d + b\n",
    "output = np.maximum(arr_2d, 0.)\n",
    "print(z, output, sep='\\n\\n')"
   ]
  },
  {
   "cell_type": "markdown",
   "metadata": {},
   "source": [
    "### Broadcasting"
   ]
  },
  {
   "cell_type": "code",
   "execution_count": 30,
   "metadata": {},
   "outputs": [],
   "source": [
    "# broadcasting is peformed when we try to add 2d matrix and a 1d vector\n",
    "def naive_add_matrix_and_vector(x, y):\n",
    "    assert len(x.shape) == 2\n",
    "    assert len(y.shape) == 1\n",
    "    assert x.shape[1] == y.shape[0]\n",
    "    x = x.copy()\n",
    "    for i in range(x.shape[0]):\n",
    "        for j in range(x.shape[1]):\n",
    "            x[i, j] += y[j]\n",
    "    return x"
   ]
  },
  {
   "cell_type": "code",
   "execution_count": 32,
   "metadata": {},
   "outputs": [
    {
     "data": {
      "text/plain": [
       "array([[ 2., -3.,  4.],\n",
       "       [ 4., -3.,  5.],\n",
       "       [ 1., -2.,  8.],\n",
       "       [ 1., -3.,  5.],\n",
       "       [ 2., -3.,  4.]])"
      ]
     },
     "execution_count": 32,
     "metadata": {},
     "output_type": "execute_result"
    }
   ],
   "source": [
    "naive_add_matrix_and_vector(arr_2d, np.array([1, -3, 4]))"
   ]
  },
  {
   "cell_type": "code",
   "execution_count": 50,
   "metadata": {
    "collapsed": true
   },
   "outputs": [
    {
     "data": {
      "text/plain": [
       "array([[[[0.60517051, 0.32622996, 0.59877771, ..., 0.58324441,\n",
       "          0.53095174, 0.63202632],\n",
       "         [0.59050075, 0.77912875, 0.65499353, ..., 0.26623608,\n",
       "          0.39679943, 0.74220553],\n",
       "         [0.26743111, 0.77990798, 0.5262161 , ..., 0.74415227,\n",
       "          0.77319883, 0.23981563],\n",
       "         ...,\n",
       "         [0.56732435, 0.69766581, 0.39674883, ..., 0.68123422,\n",
       "          0.27720099, 0.91679881],\n",
       "         [0.15098698, 0.78892576, 0.74805422, ..., 0.6493512 ,\n",
       "          0.95121474, 0.93272783],\n",
       "         [0.77067573, 0.45040943, 0.72411292, ..., 0.89939231,\n",
       "          0.87797074, 0.40127304]],\n",
       "\n",
       "        [[0.88810412, 0.79232323, 0.41822432, ..., 0.44691489,\n",
       "          0.53095174, 0.55073428],\n",
       "         [0.86005148, 0.43765859, 0.53942515, ..., 0.53451347,\n",
       "          0.63387825, 0.74220553],\n",
       "         [0.26743111, 0.64025754, 0.5262161 , ..., 0.37709055,\n",
       "          0.77319883, 0.69055689],\n",
       "         ...,\n",
       "         [0.70738042, 0.45913346, 0.30138447, ..., 0.37759347,\n",
       "          0.27720099, 0.71473136],\n",
       "         [0.89186569, 0.78892576, 0.74805422, ..., 0.6493512 ,\n",
       "          0.86627671, 0.2426626 ],\n",
       "         [0.30327472, 0.66547628, 0.57794707, ..., 0.916707  ,\n",
       "          0.87797074, 0.84162137]],\n",
       "\n",
       "        [[0.640599  , 0.41649685, 0.29448929, ..., 0.32468   ,\n",
       "          0.53095174, 0.76050562],\n",
       "         [0.90240235, 0.55078369, 0.80433146, ..., 0.77760057,\n",
       "          0.44390486, 0.74220553],\n",
       "         [0.54911856, 0.55510863, 0.5262161 , ..., 0.69798935,\n",
       "          0.77319883, 0.30417957],\n",
       "         ...,\n",
       "         [0.72786717, 0.45913346, 0.66461582, ..., 0.3089516 ,\n",
       "          0.27720099, 0.71473136],\n",
       "         [0.3998914 , 0.78892576, 0.74805422, ..., 0.6493512 ,\n",
       "          0.12131575, 0.2426626 ],\n",
       "         [0.14243208, 0.59667312, 0.95601167, ..., 0.27044524,\n",
       "          0.87797074, 0.58509467]]],\n",
       "\n",
       "\n",
       "       [[[0.49454973, 0.58015218, 0.96639058, ..., 0.88558031,\n",
       "          0.65531341, 0.9156205 ],\n",
       "         [0.63519061, 0.88687828, 0.53942515, ..., 0.12895601,\n",
       "          0.39679943, 0.74220553],\n",
       "         [0.5185988 , 0.70381112, 0.94011183, ..., 0.77138775,\n",
       "          0.77319883, 0.57214668],\n",
       "         ...,\n",
       "         [0.30911777, 0.45913346, 0.49681875, ..., 0.73302633,\n",
       "          0.58936073, 0.75311682],\n",
       "         [0.56496416, 0.78892576, 0.74805422, ..., 0.69468372,\n",
       "          0.29750731, 0.38020428],\n",
       "         [0.22011534, 0.70700038, 0.55715574, ..., 0.51578496,\n",
       "          0.87797074, 0.45412343]],\n",
       "\n",
       "        [[0.83498174, 0.49765247, 0.80650634, ..., 0.28347723,\n",
       "          0.53095174, 0.55073428],\n",
       "         [0.35410307, 0.89160864, 0.86978947, ..., 0.12895601,\n",
       "          0.55343553, 0.74220553],\n",
       "         [0.63140205, 0.06416001, 0.5262161 , ..., 0.26789642,\n",
       "          0.88262208, 0.9632413 ],\n",
       "         ...,\n",
       "         [0.94732735, 0.45913346, 0.96056103, ..., 0.3089516 ,\n",
       "          0.27720099, 0.71473136],\n",
       "         [0.71028134, 0.78892576, 0.74805422, ..., 0.97023489,\n",
       "          0.25323684, 0.65695058],\n",
       "         [0.91680584, 0.45040943, 0.50576222, ..., 0.8943169 ,\n",
       "          0.87797074, 0.77786649]],\n",
       "\n",
       "        [[0.8430906 , 0.32622996, 0.59840376, ..., 0.86065522,\n",
       "          0.71226644, 0.72916763],\n",
       "         [0.95103578, 0.43765859, 0.86185821, ..., 0.15636417,\n",
       "          0.39679943, 0.93742981],\n",
       "         [0.90144614, 0.20375301, 0.5262161 , ..., 0.8236202 ,\n",
       "          0.77319883, 0.28700964],\n",
       "         ...,\n",
       "         [0.29207022, 0.59627493, 0.397126  , ..., 0.58062321,\n",
       "          0.75439293, 0.71473136],\n",
       "         [0.01351318, 0.78892576, 0.83817608, ..., 0.6493512 ,\n",
       "          0.57516727, 0.51794978],\n",
       "         [0.33312062, 0.45040943, 0.78000128, ..., 0.35236782,\n",
       "          0.87797074, 0.95761829]]],\n",
       "\n",
       "\n",
       "       [[[0.49454973, 0.69873668, 0.29448929, ..., 0.56687693,\n",
       "          0.53095174, 0.55073428],\n",
       "         [0.47702331, 0.43765859, 0.97614421, ..., 0.69186642,\n",
       "          0.39679943, 0.74220553],\n",
       "         [0.26743111, 0.96967591, 0.5262161 , ..., 0.39068708,\n",
       "          0.98556721, 0.23981563],\n",
       "         ...,\n",
       "         [0.29207022, 0.49319342, 0.46595815, ..., 0.3089516 ,\n",
       "          0.51268884, 0.71473136],\n",
       "         [0.95304703, 0.9939032 , 0.74805422, ..., 0.6493512 ,\n",
       "          0.21389915, 0.2426626 ],\n",
       "         [0.96287888, 0.70442107, 0.94627909, ..., 0.82720761,\n",
       "          0.87797074, 0.36229753]],\n",
       "\n",
       "        [[0.51098373, 0.67038113, 0.58061096, ..., 0.55716565,\n",
       "          0.53095174, 0.55073428],\n",
       "         [0.78605029, 0.97868211, 0.53942515, ..., 0.13361287,\n",
       "          0.90846007, 0.74220553],\n",
       "         [0.98565793, 0.35365946, 0.5262161 , ..., 0.58067078,\n",
       "          0.94135739, 0.23981563],\n",
       "         ...,\n",
       "         [0.49909383, 0.82538481, 0.48947254, ..., 0.3089516 ,\n",
       "          0.9096488 , 0.88587956],\n",
       "         [0.65821856, 0.78892576, 0.74805422, ..., 0.67411012,\n",
       "          0.82865751, 0.77881158],\n",
       "         [0.488855  , 0.45040943, 0.50576222, ..., 0.28536464,\n",
       "          0.87797074, 0.41942028]],\n",
       "\n",
       "        [[0.98446384, 0.32622996, 0.98350021, ..., 0.28347723,\n",
       "          0.81397007, 0.61493796],\n",
       "         [0.23156709, 0.79841248, 0.57101374, ..., 0.21021401,\n",
       "          0.39679943, 0.74220553],\n",
       "         [0.51155079, 0.15855416, 0.63326777, ..., 0.49993454,\n",
       "          0.77319883, 0.76799855],\n",
       "         ...,\n",
       "         [0.58976101, 0.45913346, 0.52600671, ..., 0.79532517,\n",
       "          0.27720099, 0.71473136],\n",
       "         [0.54058351, 0.78892576, 0.74805422, ..., 0.6493512 ,\n",
       "          0.29820899, 0.9529299 ],\n",
       "         [0.14243208, 0.45040943, 0.50576222, ..., 0.75434586,\n",
       "          0.99301754, 0.83940604]]],\n",
       "\n",
       "\n",
       "       ...,\n",
       "\n",
       "\n",
       "       [[[0.49454973, 0.47911232, 0.46453954, ..., 0.50841442,\n",
       "          0.53095174, 0.55073428],\n",
       "         [0.23156709, 0.74060877, 0.53942515, ..., 0.68452213,\n",
       "          0.52702316, 0.74220553],\n",
       "         [0.75267016, 0.32611765, 0.5262161 , ..., 0.36983177,\n",
       "          0.77319883, 0.48188621],\n",
       "         ...,\n",
       "         [0.55086331, 0.64349753, 0.30108381, ..., 0.3089516 ,\n",
       "          0.97473675, 0.71473136],\n",
       "         [0.67352332, 0.98044968, 0.74805422, ..., 0.90616053,\n",
       "          0.73673298, 0.37296483],\n",
       "         [0.82511916, 0.45040943, 0.50576222, ..., 0.37894991,\n",
       "          0.87797074, 0.49077899]],\n",
       "\n",
       "        [[0.49454973, 0.32622996, 0.64070778, ..., 0.70710625,\n",
       "          0.53095174, 0.55073428],\n",
       "         [0.73202754, 0.53229603, 0.6174943 , ..., 0.14248828,\n",
       "          0.84135636, 0.74220553],\n",
       "         [0.65270042, 0.45986398, 0.6600143 , ..., 0.6610951 ,\n",
       "          0.77319883, 0.69750237],\n",
       "         ...,\n",
       "         [0.78154642, 0.45913346, 0.95444619, ..., 0.59005863,\n",
       "          0.52954988, 0.9937948 ],\n",
       "         [0.49123475, 0.78892576, 0.74805422, ..., 0.6493512 ,\n",
       "          0.75773517, 0.2426626 ],\n",
       "         [0.62377724, 0.97020944, 0.89788424, ..., 0.9879336 ,\n",
       "          0.87797074, 0.96303932]],\n",
       "\n",
       "        [[0.49454973, 0.74419065, 0.73101343, ..., 0.28347723,\n",
       "          0.84665607, 0.55073428],\n",
       "         [0.25281854, 0.8477244 , 0.53942515, ..., 0.92937495,\n",
       "          0.39679943, 0.8565569 ],\n",
       "         [0.26743111, 0.10881867, 0.83328671, ..., 0.37255028,\n",
       "          0.9089905 , 0.43217608],\n",
       "         ...,\n",
       "         [0.4887849 , 0.45913346, 0.20654802, ..., 0.47670873,\n",
       "          0.4591934 , 0.71473136],\n",
       "         [0.73831492, 0.78892576, 0.74805422, ..., 0.98056887,\n",
       "          0.24075073, 0.31349818],\n",
       "         [0.7285326 , 0.63467337, 0.71127613, ..., 0.08015616,\n",
       "          0.87797074, 0.32272954]]],\n",
       "\n",
       "\n",
       "       [[[0.49454973, 0.67529552, 0.75279249, ..., 0.28347723,\n",
       "          0.75554515, 0.95050125],\n",
       "         [0.51033889, 0.79634883, 0.59607947, ..., 0.23255833,\n",
       "          0.83502202, 0.78119466],\n",
       "         [0.47774525, 0.42806617, 0.5262161 , ..., 0.26789642,\n",
       "          0.77319883, 0.68608167],\n",
       "         ...,\n",
       "         [0.34939269, 0.45913346, 0.89468496, ..., 0.71330229,\n",
       "          0.27720099, 0.71473136],\n",
       "         [0.78978169, 0.78892576, 0.74805422, ..., 0.6493512 ,\n",
       "          0.71404011, 0.2426626 ],\n",
       "         [0.37320585, 0.45040943, 0.96889034, ..., 0.55185624,\n",
       "          0.92545658, 0.77403758]],\n",
       "\n",
       "        [[0.56493796, 0.32622996, 0.49623863, ..., 0.43511964,\n",
       "          0.63411003, 0.55073428],\n",
       "         [0.23156709, 0.88389709, 0.53942515, ..., 0.59495312,\n",
       "          0.63178775, 0.74220553],\n",
       "         [0.75705909, 0.51908256, 0.58662463, ..., 0.74077661,\n",
       "          0.77319883, 0.9456008 ],\n",
       "         ...,\n",
       "         [0.95669157, 0.53246317, 0.53462134, ..., 0.3089516 ,\n",
       "          0.98061464, 0.71473136],\n",
       "         [0.71874653, 0.78892576, 0.74805422, ..., 0.80065794,\n",
       "          0.46519894, 0.88746798],\n",
       "         [0.36987203, 0.96363253, 0.50576222, ..., 0.11214513,\n",
       "          0.87797074, 0.38898172]],\n",
       "\n",
       "        [[0.49454973, 0.32622996, 0.44902708, ..., 0.87663172,\n",
       "          0.53095174, 0.94671114],\n",
       "         [0.64753688, 0.43765859, 0.8527398 , ..., 0.73949847,\n",
       "          0.66980052, 0.74220553],\n",
       "         [0.92218209, 0.5336909 , 0.92800173, ..., 0.58384742,\n",
       "          0.77319883, 0.23981563],\n",
       "         ...,\n",
       "         [0.29207022, 0.94671831, 0.20654802, ..., 0.66380079,\n",
       "          0.27720099, 0.71473136],\n",
       "         [0.81092419, 0.78892576, 0.74805422, ..., 0.79195688,\n",
       "          0.80726456, 0.54986739],\n",
       "         [0.54023255, 0.96684227, 0.50576222, ..., 0.78764488,\n",
       "          0.87797074, 0.89479362]]],\n",
       "\n",
       "\n",
       "       [[[0.49454973, 0.84887643, 0.47393238, ..., 0.58401198,\n",
       "          0.53095174, 0.91644389],\n",
       "         [0.260487  , 0.49682764, 0.53942515, ..., 0.43885255,\n",
       "          0.82982546, 0.74220553],\n",
       "         [0.78769626, 0.67228935, 0.72777024, ..., 0.26789642,\n",
       "          0.77319883, 0.23981563],\n",
       "         ...,\n",
       "         [0.29207022, 0.93368165, 0.31669023, ..., 0.49860432,\n",
       "          0.73846513, 0.71473136],\n",
       "         [0.65913279, 0.78892576, 0.74805422, ..., 0.6493512 ,\n",
       "          0.12131575, 0.86692265],\n",
       "         [0.29143832, 0.65408942, 0.50576222, ..., 0.80188048,\n",
       "          0.87797074, 0.17755341]],\n",
       "\n",
       "        [[0.97979255, 0.58033116, 0.87665675, ..., 0.86734957,\n",
       "          0.89717799, 0.55073428],\n",
       "         [0.70941949, 0.43765859, 0.53942515, ..., 0.69333943,\n",
       "          0.39679943, 0.74220553],\n",
       "         [0.76451784, 0.13990161, 0.5262161 , ..., 0.83440803,\n",
       "          0.77319883, 0.80841815],\n",
       "         ...,\n",
       "         [0.29207022, 0.56822653, 0.73717788, ..., 0.83101879,\n",
       "          0.47038413, 0.76437069],\n",
       "         [0.09362872, 0.78892576, 0.74805422, ..., 0.6493512 ,\n",
       "          0.23223571, 0.90638529],\n",
       "         [0.46672257, 0.45040943, 0.85392374, ..., 0.13343034,\n",
       "          0.87797074, 0.41598008]],\n",
       "\n",
       "        [[0.77982882, 0.44338687, 0.91260632, ..., 0.28347723,\n",
       "          0.53095174, 0.55073428],\n",
       "         [0.70666006, 0.43765859, 0.98846418, ..., 0.38954137,\n",
       "          0.98119415, 0.74220553],\n",
       "         [0.73615608, 0.06416001, 0.62158734, ..., 0.65888711,\n",
       "          0.77319883, 0.98902485],\n",
       "         ...,\n",
       "         [0.59537565, 0.45913346, 0.44610913, ..., 0.92089105,\n",
       "          0.31407133, 0.71473136],\n",
       "         [0.62375264, 0.9478006 , 0.74805422, ..., 0.92264139,\n",
       "          0.35001088, 0.31978747],\n",
       "         [0.38739377, 0.71075058, 0.50576222, ..., 0.225622  ,\n",
       "          0.87797074, 0.17755341]]]])"
      ]
     },
     "execution_count": 50,
     "metadata": {},
     "output_type": "execute_result"
    }
   ],
   "source": [
    "x = np.random.random((64, 3, 32, 10))\n",
    "y = np.random.random((32, 10))\n",
    "z = np.maximum(x, y)\n",
    "arr_1d = np.array([1, -3, 4])\n",
    "z"
   ]
  },
  {
   "cell_type": "code",
   "execution_count": null,
   "metadata": {},
   "outputs": [],
   "source": []
  },
  {
   "cell_type": "code",
   "execution_count": 38,
   "metadata": {
    "scrolled": false
   },
   "outputs": [
    {
     "ename": "AttributeError",
     "evalue": "'numpy.ndarray' object has no attribute 'y'",
     "output_type": "error",
     "traceback": [
      "\u001b[1;31m---------------------------------------------------------------------------\u001b[0m",
      "\u001b[1;31mAttributeError\u001b[0m                            Traceback (most recent call last)",
      "\u001b[1;32m<ipython-input-38-d82947966570>\u001b[0m in \u001b[0;36m<module>\u001b[1;34m\u001b[0m\n\u001b[0;32m      3\u001b[0m \u001b[1;31m# tf used . for dot prodict\u001b[0m\u001b[1;33m\u001b[0m\u001b[1;33m\u001b[0m\u001b[1;33m\u001b[0m\u001b[0m\n\u001b[0;32m      4\u001b[0m \u001b[1;31m# k = np.dot(x, y)\u001b[0m\u001b[1;33m\u001b[0m\u001b[1;33m\u001b[0m\u001b[1;33m\u001b[0m\u001b[0m\n\u001b[1;32m----> 5\u001b[1;33m \u001b[0mt\u001b[0m\u001b[1;33m=\u001b[0m \u001b[0mx\u001b[0m\u001b[1;33m.\u001b[0m\u001b[0my\u001b[0m\u001b[1;33m\u001b[0m\u001b[1;33m\u001b[0m\u001b[0m\n\u001b[0m",
      "\u001b[1;31mAttributeError\u001b[0m: 'numpy.ndarray' object has no attribute 'y'"
     ]
    }
   ],
   "source": [
    "# element wise product   *\n",
    "# dot in keras nad numpy\n",
    "# tf used . for dot prodict\n",
    "# k = np.dot(x, y)\n",
    "# t= x.y"
   ]
  },
  {
   "cell_type": "code",
   "execution_count": 53,
   "metadata": {},
   "outputs": [],
   "source": [
    "# dot prodict of 1d vec\n",
    "def naive_vector_dot(x, y):\n",
    "    assert len(x.shape) == 1\n",
    "    assert len(y.shape) == 1\n",
    "    assert x.shape[0] == y.shape[0]\n",
    "    z = 0.\n",
    "    for i in range(x.shape[0]):\n",
    "        z += x[i] * y[i]\n",
    "    return z"
   ]
  },
  {
   "cell_type": "code",
   "execution_count": 54,
   "metadata": {},
   "outputs": [
    {
     "data": {
      "text/plain": [
       "14.0"
      ]
     },
     "execution_count": 54,
     "metadata": {},
     "output_type": "execute_result"
    }
   ],
   "source": [
    "naive_vector_dot(np.array([0, 2, 5]),np.array([1, -3, 4]))"
   ]
  },
  {
   "cell_type": "code",
   "execution_count": 57,
   "metadata": {},
   "outputs": [],
   "source": [
    "def naive_matrix_vector_dot(x, y):\n",
    "    assert len(x.shape) == 2\n",
    "    assert len(y.shape) == 1\n",
    "    assert x.shape[1] == y.shape[0]\n",
    "    z = np.zeros(x.shape[0])\n",
    "    for i in range(x.shape[0]):\n",
    "        for j in range(x.shape[1]):\n",
    "            z[i] += x[i, j] * y[j]\n",
    "    return z"
   ]
  },
  {
   "cell_type": "code",
   "execution_count": 58,
   "metadata": {},
   "outputs": [
    {
     "data": {
      "text/plain": [
       "array([ 2.,  3., -8., -3.,  2.])"
      ]
     },
     "execution_count": 58,
     "metadata": {},
     "output_type": "execute_result"
    }
   ],
   "source": [
    "naive_matrix_vector_dot(arr_2d, np.array([2, 4,-3]))"
   ]
  },
  {
   "cell_type": "code",
   "execution_count": 59,
   "metadata": {},
   "outputs": [
    {
     "data": {
      "text/plain": [
       "array([ 1.,  7., 13.,  4.,  1.])"
      ]
     },
     "execution_count": 59,
     "metadata": {},
     "output_type": "execute_result"
    }
   ],
   "source": [
    "def naive_matrix_vector_dot(x, y):\n",
    "    z = np.zeros(x.shape[0])\n",
    "    for i in range(x.shape[0]):\n",
    "        z[i] = naive_vector_dot(x[i, :], y)\n",
    "    return z\n",
    "naive_matrix_vector_dot(arr_2d,arr_1d)"
   ]
  },
  {
   "cell_type": "markdown",
   "metadata": {},
   "source": [
    "### Tensor reshaping"
   ]
  },
  {
   "cell_type": "code",
   "execution_count": 60,
   "metadata": {},
   "outputs": [
    {
     "name": "stdout",
     "output_type": "stream",
     "text": [
      "(3, 2)\n"
     ]
    }
   ],
   "source": [
    "x = np.array([[0., 1.],\n",
    "[2., 3.],\n",
    "[4., 5.]])\n",
    "print(x.shape)"
   ]
  },
  {
   "cell_type": "code",
   "execution_count": 62,
   "metadata": {},
   "outputs": [
    {
     "data": {
      "text/plain": [
       "array([[0.],\n",
       "       [1.],\n",
       "       [2.],\n",
       "       [3.],\n",
       "       [4.],\n",
       "       [5.]])"
      ]
     },
     "execution_count": 62,
     "metadata": {},
     "output_type": "execute_result"
    }
   ],
   "source": [
    "x = x.reshape((6, 1))\n",
    "x"
   ]
  },
  {
   "cell_type": "code",
   "execution_count": 64,
   "metadata": {},
   "outputs": [
    {
     "data": {
      "text/plain": [
       "array([[0., 1., 2.],\n",
       "       [3., 4., 5.]])"
      ]
     },
     "execution_count": 64,
     "metadata": {},
     "output_type": "execute_result"
    }
   ],
   "source": [
    "x.reshape(2, 3)"
   ]
  },
  {
   "cell_type": "code",
   "execution_count": null,
   "metadata": {},
   "outputs": [],
   "source": []
  }
 ],
 "metadata": {
  "accelerator": "TPU",
  "colab": {
   "collapsed_sections": [],
   "name": "deep_learningCH#2.ipynb",
   "provenance": [],
   "toc_visible": true
  },
  "kernelspec": {
   "display_name": "Python 3",
   "language": "python",
   "name": "python3"
  },
  "language_info": {
   "codemirror_mode": {
    "name": "ipython",
    "version": 3
   },
   "file_extension": ".py",
   "mimetype": "text/x-python",
   "name": "python",
   "nbconvert_exporter": "python",
   "pygments_lexer": "ipython3",
   "version": "3.7.4"
  }
 },
 "nbformat": 4,
 "nbformat_minor": 1
}
